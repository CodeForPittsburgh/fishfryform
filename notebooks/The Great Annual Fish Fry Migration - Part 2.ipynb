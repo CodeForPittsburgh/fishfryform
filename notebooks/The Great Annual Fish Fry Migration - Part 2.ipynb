{
 "cells": [
  {
   "cell_type": "markdown",
   "metadata": {},
   "source": [
    "# The Great Annual Fish Fry Migration, Part 2\n",
    "\n",
    "![](https://media.giphy.com/media/wJt98DnjJHbJW46KsA/giphy.gif)\n",
    "\n",
    "In this notebook, we load the updated fish fry GeoJSON to the database.\n",
    "\n",
    "Currently the database in DynamoDB. In it, rows = GeoJSON features, and the columns = the top level GeoJSON properties (ID, properties, geometry, and type).\n",
    "\n",
    "---\n",
    "\n",
    "*NOTE* it is also entirely possible to do this with the Fish Fry API. For anyone with a fishfry.codeforpgh.com login but without direct access to the database, that's the way to do it. We'll cover that in another notebook.\n",
    "\n",
    "---"
   ]
  },
  {
   "cell_type": "code",
   "execution_count": 13,
   "metadata": {},
   "outputs": [],
   "source": [
    "import json\n",
    "import decimal\n",
    "import boto3\n",
    "from boto3.dynamodb.conditions import Key, Attr\n",
    "from botocore.exceptions import ClientError\n",
    "from tqdm import tqdm_notebook as tqdm"
   ]
  },
  {
   "cell_type": "markdown",
   "metadata": {},
   "source": [
    "## helper functions"
   ]
  },
  {
   "cell_type": "code",
   "execution_count": 15,
   "metadata": {},
   "outputs": [],
   "source": [
    "class DecimalEncoder(json.JSONEncoder):\n",
    "    \"\"\"use to convert any DynamoDB items stored as Decimal objects to numbers.\n",
    "    \"\"\"\n",
    "\n",
    "    def default(self, o):\n",
    "        if isinstance(o, decimal.Decimal):\n",
    "            return float(o)\n",
    "        return super(DecimalEncoder, self).default(o)\n",
    "\n",
    "def decimal_encoder(json_obj):\n",
    "    return json.loads(json.dumps(json_obj, cls=DecimalEncoder))"
   ]
  },
  {
   "cell_type": "markdown",
   "metadata": {},
   "source": [
    "## Open the geojson"
   ]
  },
  {
   "cell_type": "code",
   "execution_count": 11,
   "metadata": {},
   "outputs": [],
   "source": [
    "with open('updated_fishfrydb.geojson') as fp:\n",
    "    fishfry_geojson = json.load(fp, parse_float=decimal.Decimal)"
   ]
  },
  {
   "cell_type": "markdown",
   "metadata": {},
   "source": [
    "Note above how we convert any floating point values (e.g., coordinates) to Decimal objects when reading the GeoJSON file in here. DynamoDB needs floats to be submitted this way."
   ]
  },
  {
   "cell_type": "markdown",
   "metadata": {},
   "source": [
    "## Connect to the table\n",
    "\n",
    "This assumes you have an AWS access key and AWS secret that gets you direct access to the database table."
   ]
  },
  {
   "cell_type": "code",
   "execution_count": 10,
   "metadata": {},
   "outputs": [],
   "source": [
    "dynamodb = boto3.resource('dynamodb', region_name='us-east-2')\n",
    "table = dynamodb.Table('FishFryDB')"
   ]
  },
  {
   "cell_type": "code",
   "execution_count": 9,
   "metadata": {},
   "outputs": [
    {
     "name": "stdout",
     "output_type": "stream",
     "text": [
      "Current number of entries: 357\n"
     ]
    }
   ],
   "source": [
    "print(\"Current number of entries:\", table.item_count)"
   ]
  },
  {
   "cell_type": "markdown",
   "metadata": {},
   "source": [
    "## Push the updates\n",
    "\n",
    "The `put_item` method on the table will simply update items in place if the ID matches. Easy-peazy."
   ]
  },
  {
   "cell_type": "code",
   "execution_count": 16,
   "metadata": {},
   "outputs": [
    {
     "data": {
      "application/vnd.jupyter.widget-view+json": {
       "model_id": "00d610f9703947799fc31c92f9fbb121",
       "version_major": 2,
       "version_minor": 0
      },
      "text/plain": [
       "HBox(children=(IntProgress(value=0, max=357), HTML(value='')))"
      ]
     },
     "metadata": {},
     "output_type": "display_data"
    },
    {
     "name": "stdout",
     "output_type": "stream",
     "text": [
      "\n"
     ]
    }
   ],
   "source": [
    "for fishfry in tqdm(fishfry_geojson['features']):\n",
    "    table.put_item(Item=fishfry)"
   ]
  }
 ],
 "metadata": {
  "kernelspec": {
   "display_name": "Python 3",
   "language": "python",
   "name": "python3"
  },
  "language_info": {
   "codemirror_mode": {
    "name": "ipython",
    "version": 3
   },
   "file_extension": ".py",
   "mimetype": "text/x-python",
   "name": "python",
   "nbconvert_exporter": "python",
   "pygments_lexer": "ipython3",
   "version": "3.6.1"
  }
 },
 "nbformat": 4,
 "nbformat_minor": 2
}
