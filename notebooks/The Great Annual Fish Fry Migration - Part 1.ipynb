{
 "cells": [
  {
   "cell_type": "markdown",
   "metadata": {},
   "source": [
    "# The Great Annual Fish Fry Migration, Part 1\n",
    "\n",
    "![](https://media.giphy.com/media/l0HFjNx0bf4vMgYNi/giphy.gif)\n",
    "\n",
    "Extract and transform all of last year's fish frys so they're ready for this year. This includes:\n",
    "\n",
    "* changing Lenten dates to this the corresponding dates for this year\n",
    "* reseting the validation and publication status\n",
    "\n",
    "While we could do this all through the Fish Fry API, and update live data, it's trivial to do it all locally and then upload the results. The Fish Fry database is just GeoJSON and is pretty small (<1Mb).\n",
    "\n",
    "Part 2 of the migration deals with loading the transformed data&mdash;we'll save that for another notebook."
   ]
  },
  {
   "cell_type": "code",
   "execution_count": 1,
   "metadata": {},
   "outputs": [],
   "source": [
    "import json\n",
    "from datetime import datetime, timedelta\n",
    "from dateutil.parser import parse\n",
    "from dateutil.easter import easter\n",
    "from dateutil import tz\n",
    "import requests"
   ]
  },
  {
   "cell_type": "markdown",
   "metadata": {},
   "source": [
    "## Helper functions:"
   ]
  },
  {
   "cell_type": "code",
   "execution_count": 2,
   "metadata": {},
   "outputs": [],
   "source": [
    "def get_fishfry_dates(year):\n",
    "    \"\"\"use the dateutil.easter module to get all the Fish Fry dates\n",
    "    \n",
    "    Returns a list of iso-formatted dates.\n",
    "    \"\"\"\n",
    "    e = easter(year)\n",
    "    good_friday = e - timedelta(days=2)\n",
    "    lenten_fridays = [ good_friday - timedelta(weeks=i + 1) for i in range(0,6)]\n",
    "    ash_wed = lenten_fridays[-1] - timedelta(days=2)\n",
    "    dates = []\n",
    "    return [dt.isoformat() for dt in [good_friday, *lenten_fridays, ash_wed]]\n",
    "\n",
    "def create_event_migration_lookup(this_year, last_year):\n",
    "    \"\"\"creates a dictionary where keys are fish fry dates from last year, \n",
    "    and values are for this year\n",
    "    \"\"\"\n",
    "    dates_this_year = get_fishfry_dates(this_year)\n",
    "    dates_last_year = get_fishfry_dates(last_year)\n",
    "    return dict(zip(dates_last_year, dates_this_year))"
   ]
  },
  {
   "cell_type": "code",
   "execution_count": 3,
   "metadata": {},
   "outputs": [],
   "source": [
    "def migrate_date(datetime_str, event_migration_lookup):\n",
    "    \"\"\"update a single datetime object using a lookup\n",
    "    \"\"\"\n",
    "    if not datetime_str:\n",
    "        return None\n",
    "    \n",
    "    dt_obj = parse(datetime_str)\n",
    "    \n",
    "    key = \"{0}-{1}-{2}\".format(\n",
    "        dt_obj.year, str(dt_obj.month).zfill(2),str(dt_obj.day).zfill(2)\n",
    "    )\n",
    "    \n",
    "    if key in event_migration_lookup.keys():\n",
    "        \n",
    "        result = \"{0}T{1}:{2}:00\".format(\n",
    "            # construct ISO8061-formatted string with new date from lookup, \n",
    "            # but with previously recorded time of day (minus the timezone)\n",
    "            event_migration_lookup[key], dt_obj.hour, dt_obj.minute\n",
    "        )\n",
    "        dt_obj2 = parse(result)\n",
    "        # assign the timezone. This ensures we account for DST!\n",
    "        dt_obj2 = dt_obj2.replace(tzinfo=tz.gettz('America/New_York'))\n",
    "        \n",
    "        return dt_obj2.isoformat()\n",
    "    \n",
    "    # return the original datetime object if it wasn't found in the lookup\n",
    "    return dt_obj.isoformat()"
   ]
  },
  {
   "cell_type": "code",
   "execution_count": 4,
   "metadata": {},
   "outputs": [],
   "source": [
    "def run_migration_part1(\n",
    "    fishfry_geojson, \n",
    "    event_migration_lookup\n",
    "):\n",
    "    \"\"\"takes a complete fishfry geojson and an event lookup, and returns an updated geojson\n",
    "    \"\"\"\n",
    "\n",
    "    updated_features = []\n",
    "\n",
    "    for f in fishfry_geojson['features']:\n",
    "\n",
    "        # create a new geojson feature, with the existing ID and geometry\n",
    "        feature = {\n",
    "            'id': f['id'],\n",
    "            'geometry': f['geometry'],\n",
    "            'properties' : {}\n",
    "        }\n",
    "        \n",
    "        # copy over all properties except for events to the new feature\n",
    "        for k, v in f['properties'].items():\n",
    "            if k not in ['events']:\n",
    "                if v != \"\":\n",
    "                    feature['properties'][k] = v\n",
    "                else:\n",
    "                    # Note that missing values can't be empty strings.\n",
    "                    # This helps when loading back to DynamoDB.\n",
    "                    feature['properties'][k] = None\n",
    "\n",
    "        # reset validation/publication properties\n",
    "        feature['properties']['validated'] = False\n",
    "        feature['properties']['publish'] = False\n",
    "\n",
    "        # transform the events property\n",
    "        old_events = []\n",
    "        updated_events = []\n",
    "        \n",
    "        for e in f['properties']['events']:\n",
    "            \n",
    "            # get the existing datetime ISO strings\n",
    "            old_d0 = e[\"dt_start\"]\n",
    "            old_d1 = e[\"dt_end\"]\n",
    "            \n",
    "            # transform old datetimes to new dates w/ previous times\n",
    "            updated_d0 = migrate_date(old_d0, event_migration_lookup)\n",
    "            updated_d1 = migrate_date(old_d1, event_migration_lookup)\n",
    "            \n",
    "            # append it to the updated events list\n",
    "            updated_events.append({\"dt_start\": updated_d0, \"dt_end\": updated_d1})\n",
    "\n",
    "        # add the events to the feature\n",
    "        feature['properties'][\"events\"] = updated_events\n",
    "        \n",
    "        # push it to the feature list\n",
    "        feature['type'] = \"Feature\"\n",
    "        updated_features.append(feature)\n",
    "\n",
    "    updated_geojson = {\n",
    "        \"type\": \"FeatureCollection\",\n",
    "        \"features\": updated_features\n",
    "    }\n",
    "\n",
    "    return updated_geojson"
   ]
  },
  {
   "cell_type": "markdown",
   "metadata": {},
   "source": [
    "## Ready, set, go\n",
    "\n",
    "![](https://media.giphy.com/media/lPuW5AlR9AeWzSsIqi/giphy.gif)"
   ]
  },
  {
   "cell_type": "markdown",
   "metadata": {},
   "source": [
    "### Get a copy of the the dataset from the FishFry API"
   ]
  },
  {
   "cell_type": "code",
   "execution_count": 5,
   "metadata": {},
   "outputs": [],
   "source": [
    "r = requests.get(\"https://fishfry.codeforpgh.com/api/fishfries/\")\n",
    "fishfry_geojson = r.json()"
   ]
  },
  {
   "cell_type": "markdown",
   "metadata": {},
   "source": [
    "### Generate the date lookup\n",
    "\n",
    "Ash Wednesday, all Lenten Fridays, and Good Friday: last year vs. this year:"
   ]
  },
  {
   "cell_type": "code",
   "execution_count": 6,
   "metadata": {},
   "outputs": [
    {
     "data": {
      "text/plain": [
       "{'2019-04-19': '2020-04-10',\n",
       " '2019-04-12': '2020-04-03',\n",
       " '2019-04-05': '2020-03-27',\n",
       " '2019-03-29': '2020-03-20',\n",
       " '2019-03-22': '2020-03-13',\n",
       " '2019-03-15': '2020-03-06',\n",
       " '2019-03-08': '2020-02-28',\n",
       " '2019-03-06': '2020-02-26'}"
      ]
     },
     "execution_count": 6,
     "metadata": {},
     "output_type": "execute_result"
    }
   ],
   "source": [
    "event_migration_lookup = create_event_migration_lookup(\n",
    "    this_year = datetime.now().year,\n",
    "    last_year = datetime.now().year - 1\n",
    ")\n",
    "event_migration_lookup"
   ]
  },
  {
   "cell_type": "markdown",
   "metadata": {},
   "source": [
    "### Update it!"
   ]
  },
  {
   "cell_type": "code",
   "execution_count": 7,
   "metadata": {},
   "outputs": [],
   "source": [
    "updated_fishfrys = run_migration_part1(\n",
    "    fishfry_geojson, \n",
    "    event_migration_lookup\n",
    ")"
   ]
  },
  {
   "cell_type": "markdown",
   "metadata": {},
   "source": [
    "Save the results to disk:"
   ]
  },
  {
   "cell_type": "code",
   "execution_count": 8,
   "metadata": {},
   "outputs": [],
   "source": [
    "with open('updated_fishfrydb.geojson', 'w') as fp:\n",
    "    json.dump(updated_fishfrys, fp)"
   ]
  }
 ],
 "metadata": {
  "kernelspec": {
   "display_name": "Python 3",
   "language": "python",
   "name": "python3"
  },
  "language_info": {
   "codemirror_mode": {
    "name": "ipython",
    "version": 3
   },
   "file_extension": ".py",
   "mimetype": "text/x-python",
   "name": "python",
   "nbconvert_exporter": "python",
   "pygments_lexer": "ipython3",
   "version": "3.6.1"
  }
 },
 "nbformat": 4,
 "nbformat_minor": 2
}
